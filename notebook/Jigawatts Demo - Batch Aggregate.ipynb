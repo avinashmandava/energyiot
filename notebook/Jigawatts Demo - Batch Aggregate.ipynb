{
 "cells": [
  {
   "cell_type": "markdown",
   "metadata": {},
   "source": [
    "### Create a dataframe on raw_metrics table"
   ]
  },
  {
   "cell_type": "code",
   "execution_count": null,
   "metadata": {
    "collapsed": false
   },
   "outputs": [],
   "source": [
    "df = sqlContext.read\\\n",
    "   .format(\"org.apache.spark.sql.cassandra\")\\\n",
    "   .options(keyspace = \"metrics\", table = \"raw_metrics\")\\\n",
    "   .load()\t"
   ]
  },
  {
   "cell_type": "markdown",
   "metadata": {},
   "source": [
    "### Explain the query plan and view some data"
   ]
  },
  {
   "cell_type": "code",
   "execution_count": null,
   "metadata": {
    "collapsed": false
   },
   "outputs": [],
   "source": [
    "df.printSchema()"
   ]
  },
  {
   "cell_type": "code",
   "execution_count": null,
   "metadata": {
    "collapsed": false
   },
   "outputs": [],
   "source": [
    "df.explain()"
   ]
  },
  {
   "cell_type": "code",
   "execution_count": null,
   "metadata": {
    "collapsed": false
   },
   "outputs": [],
   "source": [
    "df.show()"
   ]
  },
  {
   "cell_type": "code",
   "execution_count": null,
   "metadata": {
    "collapsed": false
   },
   "outputs": [],
   "source": [
    "from pyspark import SparkContext, SparkConf\n",
    "from pyspark.sql import SQLContext\n",
    "import datetime\n",
    "from pyspark.sql import functions as func\n",
    "from pyspark.sql.functions import col\n",
    "from pyspark.sql.functions import lit"
   ]
  },
  {
   "cell_type": "markdown",
   "metadata": {},
   "source": [
    "### set time variables for date filtering"
   ]
  },
  {
   "cell_type": "code",
   "execution_count": null,
   "metadata": {
    "collapsed": true
   },
   "outputs": [],
   "source": [
    "time = datetime.datetime.now()\n",
    "epochtime = int(time.strftime(\"%s\"))\n",
    "start_time = epochtime - 86400\n",
    "compare_time = datetime.datetime.fromtimestamp(start_time)"
   ]
  },
  {
   "cell_type": "markdown",
   "metadata": {},
   "source": [
    "### create a dataframe from the raw metrics"
   ]
  },
  {
   "cell_type": "code",
   "execution_count": null,
   "metadata": {
    "collapsed": true
   },
   "outputs": [],
   "source": [
    "rawmetrics = sqlContext.read.format(\"org.apache.spark.sql.cassandra\")\\\n",
    "    .options(table=\"raw_metrics\", keyspace=\"metrics\").load()"
   ]
  },
  {
   "cell_type": "markdown",
   "metadata": {},
   "source": [
    "### filter metrics to those in last 24 hours"
   ]
  },
  {
   "cell_type": "code",
   "execution_count": null,
   "metadata": {
    "collapsed": false
   },
   "outputs": [],
   "source": [
    "last_day = rawmetrics.where(rawmetrics.metric_time > compare_time)\n",
    "last_day.show()"
   ]
  },
  {
   "cell_type": "markdown",
   "metadata": {},
   "source": [
    "### aggregates"
   ]
  },
  {
   "cell_type": "code",
   "execution_count": null,
   "metadata": {
    "collapsed": true
   },
   "outputs": [],
   "source": [
    "averages = last_day.groupby('device_id').agg(func.avg('metric_value').alias('metric_avg'))\n",
    "maximums = last_day.groupby('device_id').agg(func.max('metric_value').alias('metric_max'))\n",
    "minimums = last_day.groupby('device_id').agg(func.min('metric_value').alias('metric_min'))"
   ]
  },
  {
   "cell_type": "markdown",
   "metadata": {},
   "source": [
    "### rename id columns for uniqueness"
   ]
  },
  {
   "cell_type": "code",
   "execution_count": null,
   "metadata": {
    "collapsed": true
   },
   "outputs": [],
   "source": [
    "averages_a = averages.withColumnRenamed(\"device_id\", \"id\")\n",
    "maximums_a = maximums.withColumnRenamed(\"device_id\", \"maxid\")\n",
    "minimums_a = minimums.withColumnRenamed(\"device_id\", \"minid\")"
   ]
  },
  {
   "cell_type": "markdown",
   "metadata": {},
   "source": [
    "### join the tables above"
   ]
  },
  {
   "cell_type": "code",
   "execution_count": null,
   "metadata": {
    "collapsed": true
   },
   "outputs": [],
   "source": [
    "temp = averages_a.join(maximums_a, averages_a.id == maximums_a.maxid)\n",
    "aggs = temp.join(minimums, temp.id == minimums.device_id).select('id','metric_min','metric_max','metric_avg')"
   ]
  },
  {
   "cell_type": "markdown",
   "metadata": {},
   "source": [
    "### add columns to format for cassandra"
   ]
  },
  {
   "cell_type": "code",
   "execution_count": null,
   "metadata": {
    "collapsed": true
   },
   "outputs": [],
   "source": [
    "addday = aggs.withColumn(\"metric_day\", lit(time))\n",
    "addname = addday.withColumn(\"metric_name\",lit(\"KWH\"))\n",
    "inserts = addname.withColumnRenamed(\"id\",\"device_id\")"
   ]
  },
  {
   "cell_type": "markdown",
   "metadata": {},
   "source": [
    "### Save to a new table"
   ]
  },
  {
   "cell_type": "code",
   "execution_count": null,
   "metadata": {
    "collapsed": false
   },
   "outputs": [],
   "source": [
    "inserts.write.format(\"org.apache.spark.sql.cassandra\").\\\n",
    "    options(table=\"daily_rollups\", keyspace = \"metrics\").save(mode =\"append\")"
   ]
  }
 ],
 "metadata": {
  "kernelspec": {
   "display_name": "Pyspark DSE Cluster",
   "language": "python",
   "name": "pyspark-dse-cluster"
  },
  "language_info": {
   "codemirror_mode": {
    "name": "ipython",
    "version": 2
   },
   "file_extension": ".py",
   "mimetype": "text/x-python",
   "name": "python",
   "nbconvert_exporter": "python",
   "pygments_lexer": "ipython2",
   "version": "2.7.6"
  }
 },
 "nbformat": 4,
 "nbformat_minor": 0
}
